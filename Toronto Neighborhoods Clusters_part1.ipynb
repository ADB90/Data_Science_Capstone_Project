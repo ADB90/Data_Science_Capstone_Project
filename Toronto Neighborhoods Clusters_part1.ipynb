{
 "cells": [
  {
   "cell_type": "markdown",
   "metadata": {},
   "source": [
    "#### Part 1 - Create Neighbourhood Dataframe\n",
    "\n",
    "###### Import library, link and data from the Wikipedia page"
   ]
  },
  {
   "cell_type": "code",
   "execution_count": 1,
   "metadata": {},
   "outputs": [],
   "source": [
    "import pandas as pd\n",
    "link = \"https://en.wikipedia.org/wiki/List_of_postal_codes_of_Canada:_M\"\n",
    "table = pd.read_html(link)"
   ]
  },
  {
   "cell_type": "markdown",
   "metadata": {},
   "source": [
    "###### read the table into a pandas dataframe"
   ]
  },
  {
   "cell_type": "code",
   "execution_count": 2,
   "metadata": {},
   "outputs": [],
   "source": [
    "toronto = table[0].iloc[:]"
   ]
  },
  {
   "cell_type": "markdown",
   "metadata": {},
   "source": [
    "###### Exclude all \"Not assigned\" boroughs"
   ]
  },
  {
   "cell_type": "code",
   "execution_count": 3,
   "metadata": {},
   "outputs": [],
   "source": [
    "toronto1 = toronto.loc[toronto[\"Borough\"]!=\"Not assigned\"]"
   ]
  },
  {
   "cell_type": "markdown",
   "metadata": {},
   "source": [
    "###### Check the difference in dataframe size after eliminating \"Not assigned\" boroughs"
   ]
  },
  {
   "cell_type": "code",
   "execution_count": 4,
   "metadata": {},
   "outputs": [
    {
     "name": "stdout",
     "output_type": "stream",
     "text": [
      "Original dataframe has  180  rows\n",
      "Dataframe purged of not assigned boroughs has  103  rows\n",
      "There are  77  boroughs which are not assigned\n"
     ]
    }
   ],
   "source": [
    "print(\"Original dataframe has \",toronto.shape[0],\" rows\")\n",
    "print(\"Dataframe purged of not assigned boroughs has \",toronto1.shape[0],\" rows\")\n",
    "print(\"There are \",toronto.shape[0]-toronto1.shape[0],\" boroughs which are not assigned\")"
   ]
  },
  {
   "cell_type": "markdown",
   "metadata": {},
   "source": [
    "###### Check if there is postal codes that are duplicates"
   ]
  },
  {
   "cell_type": "code",
   "execution_count": 5,
   "metadata": {},
   "outputs": [
    {
     "name": "stdout",
     "output_type": "stream",
     "text": [
      "Number of postal code values is:  103\n",
      "Number of unique postal code values is:  103\n"
     ]
    }
   ],
   "source": [
    "print(\"Number of postal code values is: \",toronto1[\"Postal Code\"].count())\n",
    "print(\"Number of unique postal code values is: \",toronto1[\"Postal Code\"].nunique() )"
   ]
  },
  {
   "cell_type": "markdown",
   "metadata": {},
   "source": [
    "###### So there are no duplicates in the postal code column\n",
    "\n",
    "###### Check if there are neighbourhoods which are not assigned"
   ]
  },
  {
   "cell_type": "code",
   "execution_count": 6,
   "metadata": {},
   "outputs": [
    {
     "name": "stdout",
     "output_type": "stream",
     "text": [
      "There are  0  not assigned neighbouroods\n"
     ]
    }
   ],
   "source": [
    "print(\"There are \",toronto1[\"Neighbourhood\"].loc[toronto1[\"Neighbourhood\"]==\"Not assigned\"].count(),\" not assigned neighbouroods\")"
   ]
  },
  {
   "cell_type": "markdown",
   "metadata": {},
   "source": [
    "###### Print the shape of the dataframe"
   ]
  },
  {
   "cell_type": "code",
   "execution_count": 7,
   "metadata": {},
   "outputs": [
    {
     "name": "stdout",
     "output_type": "stream",
     "text": [
      "The dataframe contains  103  rows and  3  columns\n"
     ]
    }
   ],
   "source": [
    "print(\"The dataframe contains \",toronto1.shape[0],\" rows and \",toronto1.shape[1],\" columns\")"
   ]
  }
 ],
 "metadata": {
  "kernelspec": {
   "display_name": "Python 3",
   "language": "python",
   "name": "python3"
  },
  "language_info": {
   "codemirror_mode": {
    "name": "ipython",
    "version": 3
   },
   "file_extension": ".py",
   "mimetype": "text/x-python",
   "name": "python",
   "nbconvert_exporter": "python",
   "pygments_lexer": "ipython3",
   "version": "3.8.3"
  }
 },
 "nbformat": 4,
 "nbformat_minor": 4
}
